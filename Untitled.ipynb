{
 "cells": [
  {
   "cell_type": "markdown",
   "id": "6e8231b8-3796-4880-9af6-35a2ff387c81",
   "metadata": {},
   "source": [
    "# Cloud Computing And Security"
   ]
  },
  {
   "cell_type": "markdown",
   "id": "56f79499-aac7-4dc3-bba7-9507969a631a",
   "metadata": {},
   "source": [
    "![image](https://storage.cloud.google.com/clouddemo3/Traffic%20Pred%20Pic.jpg)"
   ]
  },
  {
   "cell_type": "code",
   "execution_count": 238,
   "id": "5de953b0-aacb-4a91-b296-7ce9cb0a9dbb",
   "metadata": {},
   "outputs": [],
   "source": [
    "import pandas as pd\n",
    "import datetime\n",
    "from matplotlib.dates import DateFormatter\n",
    "from datetime import datetime, timedelta, date\n",
    "from sklearn.model_selection import train_test_split\n",
    "from sklearn.linear_model import LinearRegression\n",
    "from sklearn.metrics import r2_score, mean_squared_error,mean_absolute_error\n",
    "data = pd.read_csv('gs://clouddemo3/traffic.csv')\n",
    "data['DateTime'] = pd.to_datetime(data['DateTime'])\n",
    "data['DateTime']=data['DateTime'].map(datetime.toordinal)\n",
    "y = data['Vehicles']\n",
    "X = data.drop(['Vehicles','ID'],axis=1)\n",
    "train , test, train_label, test_label =  train_test_split(X, y, test_size=0.2, random_state=42)\n",
    "reg = LinearRegression()\n",
    "reg.fit(train, train_label)\n",
    "pred = reg.predict(test)\n",
    "mae = mean_absolute_error(y_true=test_label,y_pred=pred)\n",
    "mse = mean_squared_error(y_true=test_label,y_pred=pred) #default=True\n",
    "rmse = mean_squared_error(y_true=test_label,y_pred=pred,squared=False)\n",
    "def suggest(inp):\n",
    "    testing = {'DateTime':[inp,inp,inp],\n",
    "        'Junction':[1,2,3]}\n",
    "    dft = pd.DataFrame(testing)\n",
    "    dft['DateTime'] = pd.to_datetime(dft['DateTime'])\n",
    "    dft['DateTime']=dft['DateTime'].map(datetime.toordinal)\n",
    "    pred1=reg.predict(dft)\n",
    "    print(\"Number of probable Vehicles at Junction 1 : \",list(pred1)[0])\n",
    "    print(\"Number of probable Vehicles at Junction 2 : \",list(pred1)[1])\n",
    "    print(\"Number of probable Vehicles at Junction 3 : \",list(pred1)[2])\n",
    "    print('\\n')\n",
    "    print(\"--------------------------------------------------------\")\n",
    "    print(\"Suggested Junction - \", list(pred1).index(min(pred1)) +1)\n",
    "    print('\\n\\n')"
   ]
  },
  {
   "cell_type": "markdown",
   "id": "e762c075-a07d-47ea-8b02-184a47e7a1d8",
   "metadata": {},
   "source": [
    "## Model Evaluation"
   ]
  },
  {
   "cell_type": "code",
   "execution_count": 239,
   "id": "81a9ff45-220c-4cad-893d-adb00045253d",
   "metadata": {},
   "outputs": [
    {
     "name": "stdout",
     "output_type": "stream",
     "text": [
      "Mean Absolute Error: 10.270897728499145\n",
      "Mean Squared Error: 190.89874171592996\n",
      "Root Mean Squared Error: 13.816611079274468\n"
     ]
    }
   ],
   "source": [
    "print(\"Mean Absolute Error:\",mae)\n",
    "print(\"Mean Squared Error:\",mse)\n",
    "print(\"Root Mean Squared Error:\",rmse)"
   ]
  },
  {
   "cell_type": "markdown",
   "id": "23cefdb8-a460-4811-b67e-445bb3587ced",
   "metadata": {},
   "source": [
    "## Junction Suggestion"
   ]
  },
  {
   "cell_type": "code",
   "execution_count": 240,
   "id": "ed2690f6-71f2-4daa-996a-32d1938b68cc",
   "metadata": {},
   "outputs": [
    {
     "name": "stdin",
     "output_type": "stream",
     "text": [
      "Enter Date and Time in the format 'yyyy-mm-dd hh-mm-ss'- 2017-11-02 03-00-00\n"
     ]
    },
    {
     "name": "stdout",
     "output_type": "stream",
     "text": [
      "\n",
      "\n",
      "\n",
      "--------------------------------------------------------\n",
      "\n",
      "\n",
      "Number of probable Vehicles at Junction 1 :  60.1338328384154\n",
      "Number of probable Vehicles at Junction 2 :  45.07944269970176\n",
      "Number of probable Vehicles at Junction 3 :  30.02505256098084\n",
      "\n",
      "\n",
      "--------------------------------------------------------\n",
      "Suggested Junction -  3\n",
      "\n",
      "\n",
      "\n"
     ]
    }
   ],
   "source": [
    "inp=input(\"Enter Date and Time in the format 'yyyy-mm-dd hh-mm-ss'-\")\n",
    "print('\\n\\n')\n",
    "print('--------------------------------------------------------')\n",
    "print('\\n')\n",
    "suggest(inp)"
   ]
  },
  {
   "cell_type": "markdown",
   "id": "072e05d3-1d5a-4af5-937a-cf15a6da73e4",
   "metadata": {},
   "source": [
    "![image](https://storage.cloud.google.com/clouddemo3/thankyou.jpg)"
   ]
  }
 ],
 "metadata": {
  "environment": {
   "kernel": "python3",
   "name": "common-cpu.m94",
   "type": "gcloud",
   "uri": "gcr.io/deeplearning-platform-release/base-cpu:m94"
  },
  "kernelspec": {
   "display_name": "Python 3",
   "language": "python",
   "name": "python3"
  },
  "language_info": {
   "codemirror_mode": {
    "name": "ipython",
    "version": 3
   },
   "file_extension": ".py",
   "mimetype": "text/x-python",
   "name": "python",
   "nbconvert_exporter": "python",
   "pygments_lexer": "ipython3",
   "version": "3.7.12"
  }
 },
 "nbformat": 4,
 "nbformat_minor": 5
}
